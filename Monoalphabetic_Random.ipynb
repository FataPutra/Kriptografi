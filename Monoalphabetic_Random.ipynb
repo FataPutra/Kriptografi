{
  "nbformat": 4,
  "nbformat_minor": 0,
  "metadata": {
    "colab": {
      "provenance": [],
      "authorship_tag": "ABX9TyNUiboFjPW+J72mYhfKWsQQ",
      "include_colab_link": true
    },
    "kernelspec": {
      "name": "python3",
      "display_name": "Python 3"
    },
    "language_info": {
      "name": "python"
    }
  },
  "cells": [
    {
      "cell_type": "markdown",
      "metadata": {
        "id": "view-in-github",
        "colab_type": "text"
      },
      "source": [
        "<a href=\"https://colab.research.google.com/github/FataPutra/Kriptografi/blob/main/Monoalphabetic_Random.ipynb\" target=\"_parent\"><img src=\"https://colab.research.google.com/assets/colab-badge.svg\" alt=\"Open In Colab\"/></a>"
      ]
    },
    {
      "cell_type": "markdown",
      "source": [
        "MONOALPHABETIC RANDOM KEY"
      ],
      "metadata": {
        "id": "b-sYIv6aMvdM"
      }
    },
    {
      "cell_type": "code",
      "execution_count": null,
      "metadata": {
        "id": "BfBlttAq48N5"
      },
      "outputs": [],
      "source": [
        "# Import library yang diperlukan\n",
        "import random\n",
        "import string"
      ]
    },
    {
      "cell_type": "markdown",
      "source": [
        "import string digunakan untuk mengimpor modul string ke dalam program.\n",
        "\n",
        "import random digunakan untuk mengimpor modul random ke dalam program."
      ],
      "metadata": {
        "id": "lqK7F_jF5M0P"
      }
    },
    {
      "cell_type": "code",
      "source": [
        "# Fungsi untuk menghasilkan kunci acak\n",
        "def generate_random_key():\n",
        "\n",
        "   # Membuat daftar (list) yang berisi huruf alfabet kecil\n",
        "    abjad = list(string.ascii_lowercase)\n",
        "\n",
        "     # Mengacak urutan huruf-huruf dalam daftar\n",
        "    random.shuffle(abjad)\n",
        "\n",
        "     # Menggabungkan huruf-huruf yang sudah diacak menjadi sebuah string\n",
        "    return ''.join(abjad)\n"
      ],
      "metadata": {
        "id": "nU0uN-dF5Wjy"
      },
      "execution_count": null,
      "outputs": []
    },
    {
      "cell_type": "markdown",
      "source": [
        "def generate_random_key() --> Fungsi ini menghasilkan kunci acak untuk enkripsi monoalfabetik dengan cara mengacak urutan huruf-huruf alfabet kecil.\n",
        "\n",
        "abjad = list(string.ascii_lowercase) --> Membuat daftar (list) yang berisi huruf alfabet kecil\n",
        "\n",
        "random.shuffle(abjad)  --> Mengacak urutan huruf-huruf dalam daftar\n",
        "\n",
        "kunci_acak = ''.join(abjad) --> Menggabungkan huruf-huruf yang sudah diacak menjadi sebuah string\n",
        "\n",
        "return kunci_acak"
      ],
      "metadata": {
        "id": "g8Qr_QWd52nI"
      }
    },
    {
      "cell_type": "code",
      "source": [
        "# Fungsi untuk melakukan enkripsi dengan monoalfabetik\n",
        "def enkripsi_monoalfabetik(plaintext, kunci):\n",
        "\n",
        "   # Mendefinisikan abjad alfabet\n",
        "    abjad = string.ascii_lowercase\n",
        "\n",
        "    # Membuat mapping (pemetaan) antara huruf abjad dengan kunci\n",
        "    mapping = dict(zip(abjad, kunci))\n",
        "\n",
        "    # Melakukan enkripsi dengan menggantikan setiap karakter dalam plaintext dengan karakter yang sesuai dalam kunci, atau mempertahankan karakter jika tidak ada dalam kunci\n",
        "    hasil = ''.join(mapping.get(karakter, karakter) for karakter in plaintext)\n",
        "\n",
        "    return hasil"
      ],
      "metadata": {
        "id": "5r9dx1QQ7AxX"
      },
      "execution_count": null,
      "outputs": []
    },
    {
      "cell_type": "markdown",
      "source": [
        "def enkripsi_monoalfabetik(plaintext, kunci): --> Fungsi ini melakukan enkripsi teks plaintext menggunakan metode monoalfabetik substitution.\n",
        "\n",
        "plaintext (str): Teks yang akan dienkripsi.\n",
        "\n",
        "kunci (str): Kunci penggantian huruf.\n",
        "\n",
        "abjad = string.ascii_lowercase --> # Mendefinisikan abjad alfabet\n",
        "\n",
        "mapping = dict(zip(abjad, kunci)) --> # Membuat mapping (pemetaan) antara huruf abjad dengan kunci\n",
        "\n",
        "dict(zip(abjad, kunci)) digunakan untuk membuat sebuah kamus (dictionary) di mana huruf-huruf dari abjad alfabet (abjad) digabungkan dengan karakter-karakter dari kunci penggantian huruf (kunci). Dengan kata lain, ini adalah cara untuk membuat pemetaan huruf-huruf alfabet dengan karakter-karakter dalam kunci\n",
        "\n",
        "hasil = ''.join(mapping.get(karakter, karakter) for karakter in plaintext) --> # Melakukan enkripsi dengan menggantikan setiap karakter dalam plaintext dengan karakter yang sesuai dalam kunci, atau mempertahankan karakter jika tidak ada dalam kunci\n",
        "\n",
        "return hasil --> # mengembalikan nilai hasilnya"
      ],
      "metadata": {
        "id": "ijVRd-eCDEzK"
      }
    },
    {
      "cell_type": "code",
      "source": [
        "# Fungsi untuk melakukan dekripsi dengan monoalfabetik\n",
        "def dekripsi_monoalfabetik(ciphertext, kunci):\n",
        "\n",
        "  # Mendefinisikan abjad alfabet\n",
        "    abjad = string.ascii_lowercase\n",
        "\n",
        "    # Membuat mapping (pemetaan) terbalik antara kunci dan huruf abjad\n",
        "    reverse_mapping = dict(zip(kunci, abjad))\n",
        "\n",
        "    # Melakukan dekripsi dengan menggantikan setiap karakter dalam ciphertext dengan karakter yang sesuai di kunci dalam pemetaan terbalik, atau mempertahankan karakter jika tidak ada dalam pemetaan terbalik\n",
        "    hasil = ''.join(reverse_mapping.get(karakter, karakter) for karakter in ciphertext)\n",
        "\n",
        "    return hasil"
      ],
      "metadata": {
        "id": "sCL98cVFBVuT"
      },
      "execution_count": 5,
      "outputs": []
    },
    {
      "cell_type": "markdown",
      "source": [
        "def dekripsi_monoalfabetik(ciphertext, kunci): -->  Fungsi ini melakukan dekripsi teks ciphertext yang telah dienkripsi menggunakan metode monoalfabetik substitution.\n",
        "\n",
        "ciphertext (str): Teks yang akan didekripsi.\n",
        "\n",
        "kunci (str): Kunci penggantian huruf.\n",
        "\n",
        "abjad = string.ascii_lowercase --> # Mendefinisikan abjad alfabet\n",
        "\n",
        "reverse_mapping = dict(zip(kunci, abjad)) -->  # Membuat mapping (pemetaan)terbalik antara kunci dan huruf abjad\n",
        "\n",
        "dict(zip(abjad, kunci)) digunakan untuk membuat sebuah kamus (dictionary) di mana huruf-huruf dari abjad alfabet (abjad) digabungkan dengan karakter-karakter dari kunci penggantian huruf (kunci). Dengan kata lain, ini adalah cara untuk membuat pemetaan huruf-huruf alfabet dengan karakter-karakter dalam kunci\n",
        "\n",
        "hasil = ''.join(reverse_mapping.get(karakter, karakter) for karakter in ciphertext)\n",
        "--> #Melakukan dekripsi dengan menggantikan setiap karakter dalam ciphertext dengan karakter yang sesuai dalam pemetaan terbalik, atau mempertahankan karakter jika tidak ada dalam pemetaan terbalik\n",
        "\n",
        "return hasil --> # mengembalikan nilai hasilnya"
      ],
      "metadata": {
        "id": "WQSlzq0lFDG-"
      }
    },
    {
      "cell_type": "code",
      "source": [
        "# Fungsi utama program\n",
        "def main():\n",
        "    # Membuat kunci acak\n",
        "    kunci = generate_random_key()\n",
        "\n",
        "    print(\"Program Enkripsi Monoalfabetik\")\n",
        "    print(\"=============================\")\n",
        "\n",
        "    # Visualisasi penggantian huruf menjadi KEY\n",
        "    print(\"\\nVisualisasi penggantian huruf menjadi KEY:\")\n",
        "\n",
        "     #menggunakan perulangan for dengan parameter huruf_awal berisi dari semua huruf kecil, huruf_terenkripsi berisi dari kunci\n",
        "    for huruf_awal, huruf_terenkripsi in zip(string.ascii_lowercase, kunci):\n",
        "      #menampilkan semua huruf kecil dan perubahannya menjadi key\n",
        "        print(f\"{huruf_awal} => {huruf_terenkripsi}\")\n",
        "\n",
        "    #menampilkan key\n",
        "    print(\"Kunci Enkripsi:\", kunci)\n",
        "\n",
        "    #Menggunakan perulangan while agar program auto berulang\n",
        "    while True:\n",
        "\n",
        "        # Meminta pengguna memilih mode\n",
        "        mode = input(\"\\nPilih mode: (1) Enkripsi (2) Dekripsi (3) Hentikan program : \")\n",
        "\n",
        "        # Mode enkripsi\n",
        "        if mode == '1':\n",
        "\n",
        "            #input plaintext lalu diubah jadi huruf kecil dengan fungsi lower()\n",
        "            plaintext = input(\"Masukkan teks plaintext: \").lower()\n",
        "\n",
        "            #memanggil fungsi enkripsi monoalfabetik dengan parameter dari inputan plaintext dan kunci yang digenerate tadi lalu ditampung dalam variabel ciphertext\n",
        "            ciphertext = enkripsi_monoalfabetik(plaintext, kunci)\n",
        "\n",
        "            # Visualisasi penggantian huruf hanya pada kata yang diinput\n",
        "            print(\"\\nVisualisasi penggantian huruf:\")\n",
        "\n",
        "            #menggunakan perulangan for dengan parameter huruf_awal berisi dari plaintext, huruf_terenkripsi berisi dari ciphertext\n",
        "            for huruf_awal, huruf_terenkripsi in zip(plaintext, ciphertext):\n",
        "\n",
        "                #tampilkan huruf dari dari kata yg diinput di plaintext tadi jika ada di dalam daftar huruf kecil\n",
        "                if huruf_awal in string.ascii_lowercase:\n",
        "                    print(f\"{huruf_awal} => {huruf_terenkripsi}\")\n",
        "\n",
        "            print(\"Teks terenkripsi:\", ciphertext)\n",
        "\n",
        "        # Mode dekripsi\n",
        "        elif mode == '2':\n",
        "\n",
        "            #input ciphertext lalu diubah jadi huruf kecil dengan fungsi lower()\n",
        "            ciphertext = input(\"Masukkan teks ciphertext: \").lower()\n",
        "\n",
        "             #memanggil fungsi dekripsi monoalfabetik dengan parameter dari inputan ciphertext dan kunci yang digenerate tadi lalu ditampung dalam variabel plaintext\n",
        "            plaintext = dekripsi_monoalfabetik(ciphertext, kunci)\n",
        "\n",
        "            # Visualisasi pengembalian huruf hanya pada kata yang diinput\n",
        "            print(\"\\nVisualisasi penggantian huruf:\")\n",
        "\n",
        "            #menggunakan perulangan for dengan parameter huruf_awal berisi dari ciphertext, huruf_terdekripsi berisi dari plaintext\n",
        "            for huruf_awal, huruf_terdekripsi in zip(ciphertext, plaintext):\n",
        "\n",
        "               #tampilkan huruf dari dari kata yg diinput di ciphertext tadi jika ada di dalam daftar huruf kecil\n",
        "                if huruf_awal in string.ascii_lowercase:\n",
        "                    print(f\"{huruf_awal} => {huruf_terdekripsi}\")\n",
        "\n",
        "            print(\"Teks terdekripsi:\", plaintext)\n",
        "\n",
        "        elif mode == '3':\n",
        "            # Keluar dari program\n",
        "            print(\"Program Dihentikan !\")\n",
        "            break\n",
        "\n",
        "        else:\n",
        "            print(\"Pilihan mode tidak valid!\")\n",
        "\n",
        "if __name__ == \"__main__\":\n",
        "    main()"
      ],
      "metadata": {
        "id": "F9hVkvqOIUdB"
      },
      "execution_count": null,
      "outputs": []
    }
  ]
}